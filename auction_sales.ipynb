{
 "cells": [
  {
   "cell_type": "markdown",
   "metadata": {},
   "source": [
    "# Πρακτική Μηχανική Μάθηση \n",
    "\n",
    "## Ευαγγελιδάκης Λέανδρος\n",
    "\n"
   ]
  },
  {
   "cell_type": "markdown",
   "metadata": {},
   "source": [
    "Εισαγωγή απαραίτητων βιβλιοθηκών"
   ]
  },
  {
   "cell_type": "code",
   "execution_count": 9,
   "metadata": {},
   "outputs": [],
   "source": [
    "import numpy as np\n",
    "from matplotlib               import pyplot as plt\n",
    "from scipy import stats\n",
    "from sklearn.preprocessing    import StandardScaler        \n",
    "from sklearn.model_selection  import train_test_split      \n",
    "from sklearn.metrics          import classification_report \n",
    "from sklearn.metrics          import confusion_matrix      \n",
    "from sklearn.metrics import plot_confusion_matrix\n",
    "from sklearn.linear_model     import Ridge                 \n",
    "from sklearn.svm              import SVC                   \n",
    "from sklearn.neighbors        import KNeighborsClassifier \n",
    "import pandas as pd\n",
    "from sklearn.linear_model import LogisticRegression, LinearRegression\n",
    "from sklearn.linear_model import RidgeCV,LassoCV\n",
    "from sklearn import metrics\n",
    "from sklearn import svm\n",
    "from sklearn.model_selection import RandomizedSearchCV\n",
    "\n",
    "from sklearn.ensemble import RandomForestClassifier, RandomForestRegressor\n",
    "from sklearn import preprocessing\n",
    "from sklearn.linear_model import SGDRegressor\n",
    "from sklearn.pipeline import make_pipeline\n",
    "import seaborn as sns\n",
    "plt.style.use('seaborn')\n",
    "from sklearn.preprocessing import OneHotEncoder"
   ]
  },
  {
   "cell_type": "markdown",
   "metadata": {},
   "source": [
    "Εισαγωγή δεδομένων"
   ]
  },
  {
   "cell_type": "code",
   "execution_count": 10,
   "metadata": {},
   "outputs": [],
   "source": [
    "auctions=pd.read_csv('auction_data.csv')"
   ]
  },
  {
   "cell_type": "markdown",
   "metadata": {},
   "source": [
    "Παρακάτω φαίνονται οι 5 πρώτες καταχωρήσεις των δεδομένων και κάποια βασικά στατιστικά. Οι μεταβλητές SellerId και ItemId είναι ουσιαστικά κατηγορίες και τις μετατρέπουμε σε τύπο string."
   ]
  },
  {
   "cell_type": "code",
   "execution_count": 11,
   "metadata": {},
   "outputs": [
    {
     "data": {
      "text/html": [
       "<div>\n",
       "<style scoped>\n",
       "    .dataframe tbody tr th:only-of-type {\n",
       "        vertical-align: middle;\n",
       "    }\n",
       "\n",
       "    .dataframe tbody tr th {\n",
       "        vertical-align: top;\n",
       "    }\n",
       "\n",
       "    .dataframe thead th {\n",
       "        text-align: right;\n",
       "    }\n",
       "</style>\n",
       "<table border=\"1\" class=\"dataframe\">\n",
       "  <thead>\n",
       "    <tr style=\"text-align: right;\">\n",
       "      <th></th>\n",
       "      <th>SellerId</th>\n",
       "      <th>SellerRating</th>\n",
       "      <th>ItemId</th>\n",
       "      <th>StartingBid</th>\n",
       "      <th>Price</th>\n",
       "      <th>NumBidders</th>\n",
       "    </tr>\n",
       "  </thead>\n",
       "  <tbody>\n",
       "    <tr>\n",
       "      <th>0</th>\n",
       "      <td>144.0</td>\n",
       "      <td>84.11</td>\n",
       "      <td>6.0</td>\n",
       "      <td>137.0</td>\n",
       "      <td>145.5</td>\n",
       "      <td>2.0</td>\n",
       "    </tr>\n",
       "    <tr>\n",
       "      <th>1</th>\n",
       "      <td>40.0</td>\n",
       "      <td>93.76</td>\n",
       "      <td>0.0</td>\n",
       "      <td>30.0</td>\n",
       "      <td>30.0</td>\n",
       "      <td>0.0</td>\n",
       "    </tr>\n",
       "    <tr>\n",
       "      <th>2</th>\n",
       "      <td>102.0</td>\n",
       "      <td>94.52</td>\n",
       "      <td>12.0</td>\n",
       "      <td>364.0</td>\n",
       "      <td>1278.0</td>\n",
       "      <td>8.0</td>\n",
       "    </tr>\n",
       "    <tr>\n",
       "      <th>3</th>\n",
       "      <td>77.0</td>\n",
       "      <td>97.41</td>\n",
       "      <td>2.0</td>\n",
       "      <td>82.0</td>\n",
       "      <td>106.5</td>\n",
       "      <td>3.0</td>\n",
       "    </tr>\n",
       "    <tr>\n",
       "      <th>4</th>\n",
       "      <td>54.0</td>\n",
       "      <td>80.32</td>\n",
       "      <td>4.0</td>\n",
       "      <td>173.0</td>\n",
       "      <td>173.0</td>\n",
       "      <td>0.0</td>\n",
       "    </tr>\n",
       "  </tbody>\n",
       "</table>\n",
       "</div>"
      ],
      "text/plain": [
       "   SellerId   SellerRating   ItemId   StartingBid   Price   NumBidders\n",
       "0     144.0          84.11      6.0         137.0   145.5          2.0\n",
       "1      40.0          93.76      0.0          30.0    30.0          0.0\n",
       "2     102.0          94.52     12.0         364.0  1278.0          8.0\n",
       "3      77.0          97.41      2.0          82.0   106.5          3.0\n",
       "4      54.0          80.32      4.0         173.0   173.0          0.0"
      ]
     },
     "execution_count": 11,
     "metadata": {},
     "output_type": "execute_result"
    }
   ],
   "source": [
    "auctions.head()"
   ]
  },
  {
   "cell_type": "code",
   "execution_count": 12,
   "metadata": {},
   "outputs": [],
   "source": [
    "auctions['SellerId'] = auctions['SellerId'].astype('str')\n",
    "auctions[' ItemId'] = auctions[' ItemId'].astype('str')"
   ]
  },
  {
   "cell_type": "code",
   "execution_count": 13,
   "metadata": {},
   "outputs": [
    {
     "data": {
      "text/plain": [
       "SellerId          object\n",
       " SellerRating    float64\n",
       " ItemId           object\n",
       " StartingBid     float64\n",
       " Price           float64\n",
       " NumBidders      float64\n",
       "dtype: object"
      ]
     },
     "execution_count": 13,
     "metadata": {},
     "output_type": "execute_result"
    }
   ],
   "source": [
    "auctions.dtypes"
   ]
  },
  {
   "cell_type": "code",
   "execution_count": 14,
   "metadata": {},
   "outputs": [
    {
     "data": {
      "text/html": [
       "<div>\n",
       "<style scoped>\n",
       "    .dataframe tbody tr th:only-of-type {\n",
       "        vertical-align: middle;\n",
       "    }\n",
       "\n",
       "    .dataframe tbody tr th {\n",
       "        vertical-align: top;\n",
       "    }\n",
       "\n",
       "    .dataframe thead th {\n",
       "        text-align: right;\n",
       "    }\n",
       "</style>\n",
       "<table border=\"1\" class=\"dataframe\">\n",
       "  <thead>\n",
       "    <tr style=\"text-align: right;\">\n",
       "      <th></th>\n",
       "      <th>SellerId</th>\n",
       "      <th>SellerRating</th>\n",
       "      <th>ItemId</th>\n",
       "      <th>StartingBid</th>\n",
       "      <th>Price</th>\n",
       "      <th>NumBidders</th>\n",
       "    </tr>\n",
       "  </thead>\n",
       "  <tbody>\n",
       "    <tr>\n",
       "      <th>count</th>\n",
       "      <td>18842</td>\n",
       "      <td>18842.000000</td>\n",
       "      <td>18842</td>\n",
       "      <td>18842.000000</td>\n",
       "      <td>18842.000000</td>\n",
       "      <td>18842.000000</td>\n",
       "    </tr>\n",
       "    <tr>\n",
       "      <th>unique</th>\n",
       "      <td>150</td>\n",
       "      <td>NaN</td>\n",
       "      <td>13</td>\n",
       "      <td>NaN</td>\n",
       "      <td>NaN</td>\n",
       "      <td>NaN</td>\n",
       "    </tr>\n",
       "    <tr>\n",
       "      <th>top</th>\n",
       "      <td>132.0</td>\n",
       "      <td>NaN</td>\n",
       "      <td>7.0</td>\n",
       "      <td>NaN</td>\n",
       "      <td>NaN</td>\n",
       "      <td>NaN</td>\n",
       "    </tr>\n",
       "    <tr>\n",
       "      <th>freq</th>\n",
       "      <td>181</td>\n",
       "      <td>NaN</td>\n",
       "      <td>1558</td>\n",
       "      <td>NaN</td>\n",
       "      <td>NaN</td>\n",
       "      <td>NaN</td>\n",
       "    </tr>\n",
       "    <tr>\n",
       "      <th>mean</th>\n",
       "      <td>NaN</td>\n",
       "      <td>90.046164</td>\n",
       "      <td>NaN</td>\n",
       "      <td>316.835899</td>\n",
       "      <td>393.979753</td>\n",
       "      <td>2.242172</td>\n",
       "    </tr>\n",
       "    <tr>\n",
       "      <th>std</th>\n",
       "      <td>NaN</td>\n",
       "      <td>6.009262</td>\n",
       "      <td>NaN</td>\n",
       "      <td>350.345270</td>\n",
       "      <td>384.044470</td>\n",
       "      <td>2.016307</td>\n",
       "    </tr>\n",
       "    <tr>\n",
       "      <th>min</th>\n",
       "      <td>NaN</td>\n",
       "      <td>80.050000</td>\n",
       "      <td>NaN</td>\n",
       "      <td>1.000000</td>\n",
       "      <td>1.250000</td>\n",
       "      <td>0.000000</td>\n",
       "    </tr>\n",
       "    <tr>\n",
       "      <th>25%</th>\n",
       "      <td>NaN</td>\n",
       "      <td>84.820000</td>\n",
       "      <td>NaN</td>\n",
       "      <td>80.000000</td>\n",
       "      <td>135.500000</td>\n",
       "      <td>0.000000</td>\n",
       "    </tr>\n",
       "    <tr>\n",
       "      <th>50%</th>\n",
       "      <td>NaN</td>\n",
       "      <td>90.460000</td>\n",
       "      <td>NaN</td>\n",
       "      <td>181.000000</td>\n",
       "      <td>235.500000</td>\n",
       "      <td>2.000000</td>\n",
       "    </tr>\n",
       "    <tr>\n",
       "      <th>75%</th>\n",
       "      <td>NaN</td>\n",
       "      <td>94.990000</td>\n",
       "      <td>NaN</td>\n",
       "      <td>426.000000</td>\n",
       "      <td>568.000000</td>\n",
       "      <td>4.000000</td>\n",
       "    </tr>\n",
       "    <tr>\n",
       "      <th>max</th>\n",
       "      <td>NaN</td>\n",
       "      <td>99.980000</td>\n",
       "      <td>NaN</td>\n",
       "      <td>2299.000000</td>\n",
       "      <td>2299.000000</td>\n",
       "      <td>10.000000</td>\n",
       "    </tr>\n",
       "  </tbody>\n",
       "</table>\n",
       "</div>"
      ],
      "text/plain": [
       "       SellerId   SellerRating  ItemId   StartingBid         Price  \\\n",
       "count     18842   18842.000000   18842  18842.000000  18842.000000   \n",
       "unique      150            NaN      13           NaN           NaN   \n",
       "top       132.0            NaN     7.0           NaN           NaN   \n",
       "freq        181            NaN    1558           NaN           NaN   \n",
       "mean        NaN      90.046164     NaN    316.835899    393.979753   \n",
       "std         NaN       6.009262     NaN    350.345270    384.044470   \n",
       "min         NaN      80.050000     NaN      1.000000      1.250000   \n",
       "25%         NaN      84.820000     NaN     80.000000    135.500000   \n",
       "50%         NaN      90.460000     NaN    181.000000    235.500000   \n",
       "75%         NaN      94.990000     NaN    426.000000    568.000000   \n",
       "max         NaN      99.980000     NaN   2299.000000   2299.000000   \n",
       "\n",
       "          NumBidders  \n",
       "count   18842.000000  \n",
       "unique           NaN  \n",
       "top              NaN  \n",
       "freq             NaN  \n",
       "mean        2.242172  \n",
       "std         2.016307  \n",
       "min         0.000000  \n",
       "25%         0.000000  \n",
       "50%         2.000000  \n",
       "75%         4.000000  \n",
       "max        10.000000  "
      ]
     },
     "execution_count": 14,
     "metadata": {},
     "output_type": "execute_result"
    }
   ],
   "source": [
    "auctions.describe(include='all')"
   ]
  },
  {
   "cell_type": "markdown",
   "metadata": {},
   "source": [
    "Παρατηρούμε ότι έχουμε 150 χρήστες που πουλάνε 13 προιόντα."
   ]
  },
  {
   "cell_type": "markdown",
   "metadata": {},
   "source": [
    "Για τη μεταβλητή ItemId παράγουμε το παρακάτω ιστόγραμμα για κάθε μοναδική τιμή"
   ]
  },
  {
   "cell_type": "code",
   "execution_count": 15,
   "metadata": {},
   "outputs": [
    {
     "data": {
      "image/png": "[encoded data removed]",
      "text/plain": [
       "<Figure size 576x396 with 1 Axes>"
      ]
     },
     "metadata": {},
     "output_type": "display_data"
    }
   ],
   "source": [
    "ax = sns.countplot(x=\" ItemId\", data=auctions)"
   ]
  },
  {
   "cell_type": "markdown",
   "metadata": {},
   "source": [
    "Η μεταβλητή ItemId,δηλαδή τα προιόντα, αποτελείται από τους αριθμούς 0 έως 12 και οι συχνότητες εμφάνισης είναι παρόμοιες."
   ]
  },
  {
   "cell_type": "markdown",
   "metadata": {},
   "source": [
    "Έλεγχος για NaN δεδομένα. Όπως φαίνεται τα δεδομένα είναι πλήρης και δεν περιέχουν ελλείπουσες τιμές."
   ]
  },
  {
   "cell_type": "code",
   "execution_count": 8,
   "metadata": {},
   "outputs": [
    {
     "data": {
      "text/plain": [
       "SellerId         0\n",
       " SellerRating    0\n",
       " ItemId          0\n",
       " StartingBid     0\n",
       " Price           0\n",
       " NumBidders      0\n",
       "dtype: int64"
      ]
     },
     "execution_count": 8,
     "metadata": {},
     "output_type": "execute_result"
    }
   ],
   "source": [
    "auctions.isnull().sum()"
   ]
  },
  {
   "cell_type": "markdown",
   "metadata": {},
   "source": [
    "## (a) Πρόβλεψη Τιμής Κλεισίματος"
   ]
  },
  {
   "cell_type": "markdown",
   "metadata": {},
   "source": [
    "Για την εφαρμογή αλγορίθμων μηχανικής μάθησης χωρίζουμε τα δεδομένα σε train και test σε ποσοστό 80-20. Χρησιμοποιούμε one-hot encoding για τις μεταβλητές ItemId και SellerId."
   ]
  },
  {
   "cell_type": "code",
   "execution_count": 16,
   "metadata": {},
   "outputs": [],
   "source": [
    "#One-hot encoding ItemId column\n",
    "\n",
    "dummies1=pd.get_dummies(auctions[' ItemId'], prefix='ItemId')\n",
    "dummies2=pd.get_dummies(auctions['SellerId'], prefix='SellerId')\n",
    "\n",
    "auctions = pd.concat([auctions,dummies1,dummies2],axis=1)\n",
    "\n",
    "auctions.drop([' ItemId','SellerId'],axis=1, inplace=True)\n"
   ]
  },
  {
   "cell_type": "code",
   "execution_count": 17,
   "metadata": {},
   "outputs": [
    {
     "data": {
      "text/html": [
       "<div>\n",
       "<style scoped>\n",
       "    .dataframe tbody tr th:only-of-type {\n",
       "        vertical-align: middle;\n",
       "    }\n",
       "\n",
       "    .dataframe tbody tr th {\n",
       "        vertical-align: top;\n",
       "    }\n",
       "\n",
       "    .dataframe thead th {\n",
       "        text-align: right;\n",
       "    }\n",
       "</style>\n",
       "<table border=\"1\" class=\"dataframe\">\n",
       "  <thead>\n",
       "    <tr style=\"text-align: right;\">\n",
       "      <th></th>\n",
       "      <th>SellerRating</th>\n",
       "      <th>StartingBid</th>\n",
       "      <th>Price</th>\n",
       "      <th>NumBidders</th>\n",
       "      <th>ItemId_0.0</th>\n",
       "      <th>ItemId_1.0</th>\n",
       "      <th>ItemId_10.0</th>\n",
       "      <th>ItemId_11.0</th>\n",
       "      <th>ItemId_12.0</th>\n",
       "      <th>ItemId_2.0</th>\n",
       "      <th>...</th>\n",
       "      <th>SellerId_90.0</th>\n",
       "      <th>SellerId_91.0</th>\n",
       "      <th>SellerId_92.0</th>\n",
       "      <th>SellerId_93.0</th>\n",
       "      <th>SellerId_94.0</th>\n",
       "      <th>SellerId_95.0</th>\n",
       "      <th>SellerId_96.0</th>\n",
       "      <th>SellerId_97.0</th>\n",
       "      <th>SellerId_98.0</th>\n",
       "      <th>SellerId_99.0</th>\n",
       "    </tr>\n",
       "  </thead>\n",
       "  <tbody>\n",
       "    <tr>\n",
       "      <th>0</th>\n",
       "      <td>84.11</td>\n",
       "      <td>137.0</td>\n",
       "      <td>145.5</td>\n",
       "      <td>2.0</td>\n",
       "      <td>0</td>\n",
       "      <td>0</td>\n",
       "      <td>0</td>\n",
       "      <td>0</td>\n",
       "      <td>0</td>\n",
       "      <td>0</td>\n",
       "      <td>...</td>\n",
       "      <td>0</td>\n",
       "      <td>0</td>\n",
       "      <td>0</td>\n",
       "      <td>0</td>\n",
       "      <td>0</td>\n",
       "      <td>0</td>\n",
       "      <td>0</td>\n",
       "      <td>0</td>\n",
       "      <td>0</td>\n",
       "      <td>0</td>\n",
       "    </tr>\n",
       "    <tr>\n",
       "      <th>1</th>\n",
       "      <td>93.76</td>\n",
       "      <td>30.0</td>\n",
       "      <td>30.0</td>\n",
       "      <td>0.0</td>\n",
       "      <td>1</td>\n",
       "      <td>0</td>\n",
       "      <td>0</td>\n",
       "      <td>0</td>\n",
       "      <td>0</td>\n",
       "      <td>0</td>\n",
       "      <td>...</td>\n",
       "      <td>0</td>\n",
       "      <td>0</td>\n",
       "      <td>0</td>\n",
       "      <td>0</td>\n",
       "      <td>0</td>\n",
       "      <td>0</td>\n",
       "      <td>0</td>\n",
       "      <td>0</td>\n",
       "      <td>0</td>\n",
       "      <td>0</td>\n",
       "    </tr>\n",
       "    <tr>\n",
       "      <th>2</th>\n",
       "      <td>94.52</td>\n",
       "      <td>364.0</td>\n",
       "      <td>1278.0</td>\n",
       "      <td>8.0</td>\n",
       "      <td>0</td>\n",
       "      <td>0</td>\n",
       "      <td>0</td>\n",
       "      <td>0</td>\n",
       "      <td>1</td>\n",
       "      <td>0</td>\n",
       "      <td>...</td>\n",
       "      <td>0</td>\n",
       "      <td>0</td>\n",
       "      <td>0</td>\n",
       "      <td>0</td>\n",
       "      <td>0</td>\n",
       "      <td>0</td>\n",
       "      <td>0</td>\n",
       "      <td>0</td>\n",
       "      <td>0</td>\n",
       "      <td>0</td>\n",
       "    </tr>\n",
       "    <tr>\n",
       "      <th>3</th>\n",
       "      <td>97.41</td>\n",
       "      <td>82.0</td>\n",
       "      <td>106.5</td>\n",
       "      <td>3.0</td>\n",
       "      <td>0</td>\n",
       "      <td>0</td>\n",
       "      <td>0</td>\n",
       "      <td>0</td>\n",
       "      <td>0</td>\n",
       "      <td>1</td>\n",
       "      <td>...</td>\n",
       "      <td>0</td>\n",
       "      <td>0</td>\n",
       "      <td>0</td>\n",
       "      <td>0</td>\n",
       "      <td>0</td>\n",
       "      <td>0</td>\n",
       "      <td>0</td>\n",
       "      <td>0</td>\n",
       "      <td>0</td>\n",
       "      <td>0</td>\n",
       "    </tr>\n",
       "    <tr>\n",
       "      <th>4</th>\n",
       "      <td>80.32</td>\n",
       "      <td>173.0</td>\n",
       "      <td>173.0</td>\n",
       "      <td>0.0</td>\n",
       "      <td>0</td>\n",
       "      <td>0</td>\n",
       "      <td>0</td>\n",
       "      <td>0</td>\n",
       "      <td>0</td>\n",
       "      <td>0</td>\n",
       "      <td>...</td>\n",
       "      <td>0</td>\n",
       "      <td>0</td>\n",
       "      <td>0</td>\n",
       "      <td>0</td>\n",
       "      <td>0</td>\n",
       "      <td>0</td>\n",
       "      <td>0</td>\n",
       "      <td>0</td>\n",
       "      <td>0</td>\n",
       "      <td>0</td>\n",
       "    </tr>\n",
       "  </tbody>\n",
       "</table>\n",
       "<p>5 rows × 167 columns</p>\n",
       "</div>"
      ],
      "text/plain": [
       "    SellerRating   StartingBid   Price   NumBidders  ItemId_0.0  ItemId_1.0  \\\n",
       "0          84.11         137.0   145.5          2.0           0           0   \n",
       "1          93.76          30.0    30.0          0.0           1           0   \n",
       "2          94.52         364.0  1278.0          8.0           0           0   \n",
       "3          97.41          82.0   106.5          3.0           0           0   \n",
       "4          80.32         173.0   173.0          0.0           0           0   \n",
       "\n",
       "   ItemId_10.0  ItemId_11.0  ItemId_12.0  ItemId_2.0  ...  SellerId_90.0  \\\n",
       "0            0            0            0           0  ...              0   \n",
       "1            0            0            0           0  ...              0   \n",
       "2            0            0            1           0  ...              0   \n",
       "3            0            0            0           1  ...              0   \n",
       "4            0            0            0           0  ...              0   \n",
       "\n",
       "   SellerId_91.0  SellerId_92.0  SellerId_93.0  SellerId_94.0  SellerId_95.0  \\\n",
       "0              0              0              0              0              0   \n",
       "1              0              0              0              0              0   \n",
       "2              0              0              0              0              0   \n",
       "3              0              0              0              0              0   \n",
       "4              0              0              0              0              0   \n",
       "\n",
       "   SellerId_96.0  SellerId_97.0  SellerId_98.0  SellerId_99.0  \n",
       "0              0              0              0              0  \n",
       "1              0              0              0              0  \n",
       "2              0              0              0              0  \n",
       "3              0              0              0              0  \n",
       "4              0              0              0              0  \n",
       "\n",
       "[5 rows x 167 columns]"
      ]
     },
     "execution_count": 17,
     "metadata": {},
     "output_type": "execute_result"
    }
   ],
   "source": [
    "auctions.head()"
   ]
  },
  {
   "cell_type": "code",
   "execution_count": 19,
   "metadata": {},
   "outputs": [],
   "source": [
    "#Train-test split\n",
    "\n",
    "auctions_x=auctions.drop([' Price'],axis=1)\n",
    "\n",
    "X=auctions_x.values\n",
    "y=auctions[' Price'].values\n",
    "\n",
    "X_train, X_test, y_train, y_test = train_test_split(X, y, random_state=77, test_size=0.2)"
   ]
  },
  {
   "cell_type": "code",
   "execution_count": 20,
   "metadata": {},
   "outputs": [
    {
     "name": "stdout",
     "output_type": "stream",
     "text": [
      "(15073, 166)\n",
      "(3769, 166)\n"
     ]
    }
   ],
   "source": [
    "print(X_train.shape)\n",
    "print(X_test.shape)"
   ]
  },
  {
   "cell_type": "markdown",
   "metadata": {},
   "source": [
    "Όπως φαίνεται παραπάνω έχουμε 15.073 καταχωρήσεις για εκμάθηση και 3.769 για έλεγχο."
   ]
  },
  {
   "cell_type": "markdown",
   "metadata": {},
   "source": [
    "Παρακάτω δημιουργούμε μια συνάρτηση όπου υπολογίζει το διάστημα εμπιστοσύνης (95%) για τις προβλεπόμενες τιμές και απεικονίζει τις πραγματικές τιμές (50 πρώτες) μαζί με τις αντίστοιχες προβλέψεις."
   ]
  },
  {
   "cell_type": "code",
   "execution_count": 21,
   "metadata": {},
   "outputs": [],
   "source": [
    "def plot_results(y_test,y_pred):\n",
    "    '''Plot predictions vs original data with 95% CI'''\n",
    "    \n",
    "    stdev = np.sqrt(sum((y_pred - y_test)**2) / (len(y_train) - 2))\n",
    "    interval = 1.96 * stdev #Για επίπεδο σημαντικότητας α=0.05 , z=1.96 (από πίνακα Κανονικής Κατανομής)\n",
    "\n",
    "    df = pd.DataFrame({'Actual Price': y_test.flatten(), 'Predicted Price': y_pred.flatten()})\n",
    "    df_plot = df.head(50)\n",
    "    df_plot.plot(kind='bar',figsize=(16,8),yerr=interval,ecolor='red')\n",
    "    plt.grid(color='white')\n",
    "    plt.title('Actual vs Predicted Prices',fontsize=20)\n",
    "    plt.show()\n"
   ]
  },
  {
   "cell_type": "markdown",
   "metadata": {},
   "source": [
    "Επιπλέον κατασκευάζουμε συνάρτηση στην οποία θα δίνουμε ένα μοντέλο, θα υπολογίζει τις μετρικές και θα τις επιστρέφει μαζί με το αντίστοιχο γράφημα που παράγεται από την παραπάνω συνάρτηση."
   ]
  },
  {
   "cell_type": "code",
   "execution_count": 22,
   "metadata": {},
   "outputs": [],
   "source": [
    "def fit_and_report(clf,y_test,alpha=False):\n",
    "    '''Fit a model and return report'''\n",
    "    \n",
    "    #Alpha parameter for models with penalty\n",
    "    if alpha==True:\n",
    "        print('Alpha parameter: ',clf.alpha_)\n",
    "\n",
    "    y_pred = clf.predict(X_test)\n",
    "\n",
    "    plot_results(y_test,y_pred)\n",
    "    \n",
    "    print('R^2 on train set :',clf.score(X_train, y_train))\n",
    "    print('R^2 on test set :',clf.score(X_test, y_test))\n",
    "    print('Mean Absolute Error:', metrics.mean_absolute_error(y_test, y_pred))\n",
    "    print('Mean Squared Error:', metrics.mean_squared_error(y_test, y_pred))\n",
    "    print('Root Mean Squared Error:', np.sqrt(metrics.mean_squared_error(y_test, y_pred)))"
   ]
  },
  {
   "cell_type": "markdown",
   "metadata": {},
   "source": [
    "## Linear Regression"
   ]
  },
  {
   "cell_type": "code",
   "execution_count": 15,
   "metadata": {},
   "outputs": [
    {
     "data": {
      "image/png": "[encoded data removed]",
      "text/plain": [
       "<Figure size 1152x576 with 1 Axes>"
      ]
     },
     "metadata": {},
     "output_type": "display_data"
    },
    {
     "name": "stdout",
     "output_type": "stream",
     "text": [
      "R^2 on train set : 0.9756336583737634\n",
      "R^2 on test set : 0.9740225812584035\n",
      "Mean Absolute Error: 35.466745119001224\n",
      "Mean Squared Error: 3812.8668698934716\n",
      "Root Mean Squared Error: 61.74841593023639\n"
     ]
    }
   ],
   "source": [
    "reg = LinearRegression().fit(X_train, y_train)\n",
    "\n",
    "fit_and_report(reg,y_test)"
   ]
  },
  {
   "cell_type": "markdown",
   "metadata": {},
   "source": [
    "## Ridge Regression"
   ]
  },
  {
   "cell_type": "markdown",
   "metadata": {},
   "source": [
    "Χρησιμοποιούμε την ίδια διαδικασία όπως και για την γραμμική παλινδρόμηση. Εδώ εφαρμόζουμε το RidgeCV όπου επιλέγει αυτόματα την βέλτιστη παράμετρο alpha για το regularization, μέσω 10-fold cross-validation."
   ]
  },
  {
   "cell_type": "code",
   "execution_count": 17,
   "metadata": {},
   "outputs": [
    {
     "name": "stdout",
     "output_type": "stream",
     "text": [
      "Alpha parameter:  1.0\n"
     ]
    },
    {
     "data": {
      "image/png": "[encoded data removed]",
      "text/plain": [
       "<Figure size 1152x576 with 1 Axes>"
      ]
     },
     "metadata": {},
     "output_type": "display_data"
    },
    {
     "name": "stdout",
     "output_type": "stream",
     "text": [
      "R^2 on train set : 0.975632065870068\n",
      "R^2 on test set : 0.9740429271760096\n",
      "Mean Absolute Error: 35.496366736103724\n",
      "Mean Squared Error: 3809.880573373789\n",
      "Root Mean Squared Error: 61.72423003467754\n"
     ]
    }
   ],
   "source": [
    "ridge_reg = RidgeCV(alphas=[1e-3, 1e-2, 1e-1, 1],cv=10).fit(X_train, y_train)\n",
    "\n",
    "fit_and_report(ridge_reg,y_test,alpha=True)"
   ]
  },
  {
   "cell_type": "markdown",
   "metadata": {},
   "source": [
    "## Lasso Regression"
   ]
  },
  {
   "cell_type": "markdown",
   "metadata": {},
   "source": [
    "Με τον ίδιο τρόπου που εφαρμόσαμε το RidgeCV εφαρμόζουμε τώρα το LassoCV με 10-fold CV για την επιλογή της παραμέτρου alpha."
   ]
  },
  {
   "cell_type": "code",
   "execution_count": 18,
   "metadata": {},
   "outputs": [
    {
     "name": "stdout",
     "output_type": "stream",
     "text": [
      "Alpha parameter:  0.1\n"
     ]
    },
    {
     "data": {
      "image/png": "[encoded data removed]",
      "text/plain": [
       "<Figure size 1152x576 with 1 Axes>"
      ]
     },
     "metadata": {},
     "output_type": "display_data"
    },
    {
     "name": "stdout",
     "output_type": "stream",
     "text": [
      "R^2 on train set : 0.975351563514773\n",
      "R^2 on test set : 0.974299134751405\n",
      "Mean Absolute Error: 35.147586769134875\n",
      "Mean Squared Error: 3772.2753984425362\n",
      "Root Mean Squared Error: 61.41885214201366\n"
     ]
    }
   ],
   "source": [
    "lasso_reg = LassoCV(alphas=[1e-3, 1e-2, 1e-1, 1],cv=10,max_iter=100000,n_jobs=-1,random_state=77).fit(X_train, y_train)\n",
    "\n",
    "fit_and_report(lasso_reg,y_test,alpha=True)"
   ]
  },
  {
   "cell_type": "markdown",
   "metadata": {},
   "source": [
    "## Stohastic Gradient Descent Regressor"
   ]
  },
  {
   "cell_type": "markdown",
   "metadata": {},
   "source": [
    "Για την χρήση SGD επιπλέον κάνουμε τυποποίηση  στα δεδομένα."
   ]
  },
  {
   "cell_type": "code",
   "execution_count": 19,
   "metadata": {},
   "outputs": [],
   "source": [
    "sgd_reg = make_pipeline(StandardScaler(),SGDRegressor(max_iter=1000, tol=1e-3,random_state=77))"
   ]
  },
  {
   "cell_type": "code",
   "execution_count": 20,
   "metadata": {},
   "outputs": [
    {
     "data": {
      "image/png": "[encoded data removed]",
      "text/plain": [
       "<Figure size 1152x576 with 1 Axes>"
      ]
     },
     "metadata": {},
     "output_type": "display_data"
    },
    {
     "name": "stdout",
     "output_type": "stream",
     "text": [
      "R^2 on train set : 0.9750027069330522\n",
      "R^2 on test set : 0.9735853350031333\n",
      "Mean Absolute Error: 36.41131952022137\n",
      "Mean Squared Error: 3877.044214736261\n",
      "Root Mean Squared Error: 62.26591535291408\n"
     ]
    }
   ],
   "source": [
    "sgd_reg.fit(X_train, y_train)\n",
    "\n",
    "fit_and_report(sgd_reg,y_test)"
   ]
  },
  {
   "cell_type": "markdown",
   "metadata": {},
   "source": [
    "## Random Forests Regressor"
   ]
  },
  {
   "cell_type": "markdown",
   "metadata": {},
   "source": [
    "Παρακάτω χρησιμοποιούμε την ensebmle μέθοδο Random Forest. Για την επιλογή των υπερπαραμέτρων του αλγορίθμου χρησιμοποιούμε Grid Search αλλα εξετάζοντας ένα τυχαίο δείγμα από το σύνολο των επιλογών για παραμέτρους (για εξοικονόμηση χρόνου), χρησιμοποιώντας τη μέθοδο RandomizedSearchCV του sklearn. Η επιλογή γίνεται μέσω 5-fold Cross Validation και 100 φορες, δηλαδή συνολικά γίνονται 500 fits στα δεδομένα."
   ]
  },
  {
   "cell_type": "code",
   "execution_count": 456,
   "metadata": {},
   "outputs": [
    {
     "name": "stdout",
     "output_type": "stream",
     "text": [
      "Fitting 5 folds for each of 100 candidates, totalling 500 fits\n"
     ]
    },
    {
     "name": "stderr",
     "output_type": "stream",
     "text": [
      "[Parallel(n_jobs=-1)]: Using backend LokyBackend with 12 concurrent workers.\n",
      "[Parallel(n_jobs=-1)]: Done  17 tasks      | elapsed:   26.2s\n",
      "[Parallel(n_jobs=-1)]: Done 138 tasks      | elapsed:  4.3min\n",
      "[Parallel(n_jobs=-1)]: Done 341 tasks      | elapsed:  9.2min\n",
      "[Parallel(n_jobs=-1)]: Done 500 out of 500 | elapsed: 12.8min finished\n"
     ]
    },
    {
     "name": "stdout",
     "output_type": "stream",
     "text": [
      "{'n_estimators': 289, 'max_features': 'sqrt', 'max_depth': 31}\n"
     ]
    }
   ],
   "source": [
    "rfc = RandomForestRegressor()\n",
    "\n",
    "n_estimators = [int(x) for x in np.linspace(start = 100, stop = 1000, num = 20)]\n",
    "max_features = ['auto', 'sqrt']\n",
    "max_depth = [int(x) for x in np.linspace(10, 200, num = 10)]\n",
    "max_depth.append(None)\n",
    "\n",
    "options_grid = {\n",
    " 'n_estimators': n_estimators,\n",
    " 'max_features': max_features,\n",
    " 'max_depth': max_depth\n",
    " }\n",
    "\n",
    "rand_forest = RandomizedSearchCV(estimator = rfc, param_distributions = options_grid, n_iter = 100, cv = 5, verbose=2, random_state=77, n_jobs = -1)\n",
    "rand_forest.fit(X_train, y_train)\n",
    "\n",
    "print(rand_forest.best_params_)"
   ]
  },
  {
   "cell_type": "markdown",
   "metadata": {},
   "source": [
    "Οι προτεινόμενες παράμετροι είναι 289 εκτιμητές, με πλήθος χαρακτηριστικών την τετραγωνική ρίζα του πλήθους των μεταβλητών μας και μέγιστο βάθος δένδρου 31."
   ]
  },
  {
   "cell_type": "code",
   "execution_count": 23,
   "metadata": {},
   "outputs": [
    {
     "data": {
      "image/png": "[encoded data removed]",
      "text/plain": [
       "<Figure size 1152x576 with 1 Axes>"
      ]
     },
     "metadata": {},
     "output_type": "display_data"
    },
    {
     "name": "stdout",
     "output_type": "stream",
     "text": [
      "R^2 on train set : 0.9937802032857228\n",
      "R^2 on test set : 0.9863479964437528\n",
      "Mean Absolute Error: 23.153308255503877\n",
      "Mean Squared Error: 2003.7892365314904\n",
      "Root Mean Squared Error: 44.76370445496541\n"
     ]
    }
   ],
   "source": [
    "rand_forest = RandomForestRegressor(n_estimators=289, max_features = 'sqrt', max_depth= 31, random_state=77,n_jobs=-1).fit(X_train, y_train)\n",
    "\n",
    "y_pred = rand_forest.predict(X_test)\n",
    "\n",
    "\n",
    "fit_and_report(rand_forest,y_test)"
   ]
  },
  {
   "cell_type": "code",
   "execution_count": 477,
   "metadata": {},
   "outputs": [
    {
     "data": {
      "image/png": "[encoded data removed]",
      "text/plain": [
       "<Figure size 720x432 with 1 Axes>"
      ]
     },
     "metadata": {},
     "output_type": "display_data"
    }
   ],
   "source": [
    "results_mae=[34.8756976667401,34.881196611895916,34.878098692137876,34.85065971525557,13.924855131947732]\n",
    "results_rmse=[61.44971209680265,61.448053113819476,61.44901675629336,61.48047388764597,33.61926662839836]\n",
    "\n",
    "res_df=pd.DataFrame(list(zip(results_mae,results_rmse)),index=['Linear','Ridge','Lasso','SGD','Random Forests'],columns=['MAE','RMSE'])\n",
    "plt=res_df.plot(kind='bar',title='Regression models Results',figsize=(10,6))\n"
   ]
  },
  {
   "cell_type": "markdown",
   "metadata": {},
   "source": [
    "Όπως φαίνεται τις καλύτερες επιδόσεις παρουσιάζει ο αλγόριθμος Random Forests ενώ οι υπόλοιποι παρουσιάζουν αρκετά παρόμοια αποτελέσματα."
   ]
  },
  {
   "cell_type": "markdown",
   "metadata": {},
   "source": [
    "## (β) Πρόβλεψη αν η δημοπρασία θα οδηγήσει σε πώληση ή όχι"
   ]
  },
  {
   "cell_type": "markdown",
   "metadata": {},
   "source": [
    "Αρχικά δημιουργούμε μια νέα δυαδική μεταβλητή (sold) η οποία θα έχει τιμές 1 ή 0 ανάλογα αν έγινε η πώληση ή όχι αντίστοιχα. Έτσι δεν χρειαζόμαστε τη μεταβλητή Price και NumBidders καθότι οι πληροφορία τους εμπεριέχεται πλέον στη νέα αυτή μεταβλητή. Χρησιμοποιούμε, όπως και πριν, One-hot encoding για το ItemId ενώ αφαιρούμε το SellerId. Παρατηρήθηκε ότι η χρήση του SellerId παρήγαγε χειρότερα αποτελέσματα για το σκοπό της κατηγοριοποίησης."
   ]
  },
  {
   "cell_type": "code",
   "execution_count": 24,
   "metadata": {},
   "outputs": [],
   "source": [
    "#auctions2 = auctions.copy()\n",
    "auctions2 = pd.read_csv('auction_data/auction_data.csv')\n",
    "auctions2 = pd.concat([auctions2,dummies1],axis=1)\n",
    "auctions2.drop([' ItemId','SellerId'],axis=1, inplace=True)\n",
    "\n",
    "\n",
    "def sold(row):\n",
    "    if row[' NumBidders'] == 0:\n",
    "        val = 0\n",
    "    else:\n",
    "        val = 1\n",
    "    return val\n",
    "\n",
    "auctions2['sold'] = auctions.apply(sold, axis=1).astype('category')\n",
    "\n",
    "auctions2.drop([' Price',' NumBidders'],axis=1, inplace=True)\n",
    "\n"
   ]
  },
  {
   "cell_type": "code",
   "execution_count": 25,
   "metadata": {},
   "outputs": [
    {
     "data": {
      "text/html": [
       "<div>\n",
       "<style scoped>\n",
       "    .dataframe tbody tr th:only-of-type {\n",
       "        vertical-align: middle;\n",
       "    }\n",
       "\n",
       "    .dataframe tbody tr th {\n",
       "        vertical-align: top;\n",
       "    }\n",
       "\n",
       "    .dataframe thead th {\n",
       "        text-align: right;\n",
       "    }\n",
       "</style>\n",
       "<table border=\"1\" class=\"dataframe\">\n",
       "  <thead>\n",
       "    <tr style=\"text-align: right;\">\n",
       "      <th></th>\n",
       "      <th>SellerRating</th>\n",
       "      <th>StartingBid</th>\n",
       "      <th>ItemId_0.0</th>\n",
       "      <th>ItemId_1.0</th>\n",
       "      <th>ItemId_10.0</th>\n",
       "      <th>ItemId_11.0</th>\n",
       "      <th>ItemId_12.0</th>\n",
       "      <th>ItemId_2.0</th>\n",
       "      <th>ItemId_3.0</th>\n",
       "      <th>ItemId_4.0</th>\n",
       "      <th>ItemId_5.0</th>\n",
       "      <th>ItemId_6.0</th>\n",
       "      <th>ItemId_7.0</th>\n",
       "      <th>ItemId_8.0</th>\n",
       "      <th>ItemId_9.0</th>\n",
       "      <th>sold</th>\n",
       "    </tr>\n",
       "  </thead>\n",
       "  <tbody>\n",
       "    <tr>\n",
       "      <th>0</th>\n",
       "      <td>84.11</td>\n",
       "      <td>137.0</td>\n",
       "      <td>0</td>\n",
       "      <td>0</td>\n",
       "      <td>0</td>\n",
       "      <td>0</td>\n",
       "      <td>0</td>\n",
       "      <td>0</td>\n",
       "      <td>0</td>\n",
       "      <td>0</td>\n",
       "      <td>0</td>\n",
       "      <td>1</td>\n",
       "      <td>0</td>\n",
       "      <td>0</td>\n",
       "      <td>0</td>\n",
       "      <td>1</td>\n",
       "    </tr>\n",
       "    <tr>\n",
       "      <th>1</th>\n",
       "      <td>93.76</td>\n",
       "      <td>30.0</td>\n",
       "      <td>1</td>\n",
       "      <td>0</td>\n",
       "      <td>0</td>\n",
       "      <td>0</td>\n",
       "      <td>0</td>\n",
       "      <td>0</td>\n",
       "      <td>0</td>\n",
       "      <td>0</td>\n",
       "      <td>0</td>\n",
       "      <td>0</td>\n",
       "      <td>0</td>\n",
       "      <td>0</td>\n",
       "      <td>0</td>\n",
       "      <td>0</td>\n",
       "    </tr>\n",
       "    <tr>\n",
       "      <th>2</th>\n",
       "      <td>94.52</td>\n",
       "      <td>364.0</td>\n",
       "      <td>0</td>\n",
       "      <td>0</td>\n",
       "      <td>0</td>\n",
       "      <td>0</td>\n",
       "      <td>1</td>\n",
       "      <td>0</td>\n",
       "      <td>0</td>\n",
       "      <td>0</td>\n",
       "      <td>0</td>\n",
       "      <td>0</td>\n",
       "      <td>0</td>\n",
       "      <td>0</td>\n",
       "      <td>0</td>\n",
       "      <td>1</td>\n",
       "    </tr>\n",
       "    <tr>\n",
       "      <th>3</th>\n",
       "      <td>97.41</td>\n",
       "      <td>82.0</td>\n",
       "      <td>0</td>\n",
       "      <td>0</td>\n",
       "      <td>0</td>\n",
       "      <td>0</td>\n",
       "      <td>0</td>\n",
       "      <td>1</td>\n",
       "      <td>0</td>\n",
       "      <td>0</td>\n",
       "      <td>0</td>\n",
       "      <td>0</td>\n",
       "      <td>0</td>\n",
       "      <td>0</td>\n",
       "      <td>0</td>\n",
       "      <td>1</td>\n",
       "    </tr>\n",
       "    <tr>\n",
       "      <th>4</th>\n",
       "      <td>80.32</td>\n",
       "      <td>173.0</td>\n",
       "      <td>0</td>\n",
       "      <td>0</td>\n",
       "      <td>0</td>\n",
       "      <td>0</td>\n",
       "      <td>0</td>\n",
       "      <td>0</td>\n",
       "      <td>0</td>\n",
       "      <td>1</td>\n",
       "      <td>0</td>\n",
       "      <td>0</td>\n",
       "      <td>0</td>\n",
       "      <td>0</td>\n",
       "      <td>0</td>\n",
       "      <td>0</td>\n",
       "    </tr>\n",
       "  </tbody>\n",
       "</table>\n",
       "</div>"
      ],
      "text/plain": [
       "    SellerRating   StartingBid  ItemId_0.0  ItemId_1.0  ItemId_10.0  \\\n",
       "0          84.11         137.0           0           0            0   \n",
       "1          93.76          30.0           1           0            0   \n",
       "2          94.52         364.0           0           0            0   \n",
       "3          97.41          82.0           0           0            0   \n",
       "4          80.32         173.0           0           0            0   \n",
       "\n",
       "   ItemId_11.0  ItemId_12.0  ItemId_2.0  ItemId_3.0  ItemId_4.0  ItemId_5.0  \\\n",
       "0            0            0           0           0           0           0   \n",
       "1            0            0           0           0           0           0   \n",
       "2            0            1           0           0           0           0   \n",
       "3            0            0           1           0           0           0   \n",
       "4            0            0           0           0           1           0   \n",
       "\n",
       "   ItemId_6.0  ItemId_7.0  ItemId_8.0  ItemId_9.0 sold  \n",
       "0           1           0           0           0    1  \n",
       "1           0           0           0           0    0  \n",
       "2           0           0           0           0    1  \n",
       "3           0           0           0           0    1  \n",
       "4           0           0           0           0    0  "
      ]
     },
     "execution_count": 25,
     "metadata": {},
     "output_type": "execute_result"
    }
   ],
   "source": [
    "auctions2.head()"
   ]
  },
  {
   "cell_type": "code",
   "execution_count": 27,
   "metadata": {},
   "outputs": [],
   "source": [
    "#Train-test set split and standardization\n",
    "\n",
    "X=auctions2.iloc[:,:-1].values\n",
    "y=auctions2.iloc[:,-1].values\n",
    "\n",
    "X_train, X_test, y_train, y_test = train_test_split(X, y, random_state=77, test_size=0.2)\n",
    "\n",
    "X_train_scaled=StandardScaler().fit_transform(X_train)\n",
    "X_test_scaled=StandardScaler().fit_transform(X_test)"
   ]
  },
  {
   "cell_type": "markdown",
   "metadata": {},
   "source": [
    "## Logistic Regression"
   ]
  },
  {
   "cell_type": "markdown",
   "metadata": {},
   "source": [
    "Αρχικά εφαρμόζουμε Λογιστική Παλινδρόμηση."
   ]
  },
  {
   "cell_type": "code",
   "execution_count": 20,
   "metadata": {},
   "outputs": [
    {
     "name": "stdout",
     "output_type": "stream",
     "text": [
      "=== Confusion Matrix ===\n",
      "[[ 877  250]\n",
      " [  59 2583]]\n",
      "\n",
      "\n",
      "=== Classification Report ===\n",
      "              precision    recall  f1-score   support\n",
      "\n",
      "           0       0.94      0.78      0.85      1127\n",
      "           1       0.91      0.98      0.94      2642\n",
      "\n",
      "    accuracy                           0.92      3769\n",
      "   macro avg       0.92      0.88      0.90      3769\n",
      "weighted avg       0.92      0.92      0.92      3769\n",
      "\n"
     ]
    }
   ],
   "source": [
    "log_reg = LogisticRegression(random_state=77 ,max_iter=10000,n_jobs=-1).fit(X_train_scaled, y_train)\n",
    "\n",
    "y_pred=log_reg.predict(X_test_scaled)\n",
    "\n",
    "print(\"=== Confusion Matrix ===\")\n",
    "print(confusion_matrix(y_test, y_pred))\n",
    "print('\\n')\n",
    "print(\"=== Classification Report ===\")\n",
    "print(classification_report(y_test, y_pred))\n"
   ]
  },
  {
   "cell_type": "markdown",
   "metadata": {},
   "source": [
    "## Support Vector Machines"
   ]
  },
  {
   "cell_type": "markdown",
   "metadata": {},
   "source": [
    "Εδώ,επιπλέον θα κάνουμε τυποποίηση των δεδομένων. Χρησιμοποιώντας τα δεδομένα ως έχουν ο αλγόριθμος δεν τερμάτιζε.\n",
    "Ως συνάρτηση πυρήνα χρησιμοποιούμε την ακτινική βάση (RBF) καθώς παρήχε τα καλύτερα αποτελέσματα."
   ]
  },
  {
   "cell_type": "code",
   "execution_count": 21,
   "metadata": {},
   "outputs": [
    {
     "name": "stdout",
     "output_type": "stream",
     "text": [
      "=== Confusion Matrix ===\n",
      "[[ 720  407]\n",
      " [  51 2591]]\n",
      "\n",
      "\n",
      "=== Classification Report ===\n",
      "              precision    recall  f1-score   support\n",
      "\n",
      "           0       0.93      0.64      0.76      1127\n",
      "           1       0.86      0.98      0.92      2642\n",
      "\n",
      "    accuracy                           0.88      3769\n",
      "   macro avg       0.90      0.81      0.84      3769\n",
      "weighted avg       0.89      0.88      0.87      3769\n",
      "\n"
     ]
    }
   ],
   "source": [
    "clf=SVC(kernel='rbf',random_state=77).fit(X_train_scaled, y_train)\n",
    "\n",
    "y_pred = clf.predict(X_test_scaled)\n",
    "\n",
    "print(\"=== Confusion Matrix ===\")\n",
    "print(confusion_matrix(y_test, y_pred))\n",
    "print('\\n')\n",
    "print(\"=== Classification Report ===\")\n",
    "print(classification_report(y_test, y_pred))\n"
   ]
  },
  {
   "cell_type": "markdown",
   "metadata": {},
   "source": [
    "## KNN Classifier\n"
   ]
  },
  {
   "cell_type": "markdown",
   "metadata": {},
   "source": [
    "Εφαρμόζουμε τη μέθοδο των Πλησιέστερων Γειτόνων  με μετρική την ευκλείδια απόσταση."
   ]
  },
  {
   "cell_type": "markdown",
   "metadata": {},
   "source": [
    "Αρχικά, για την εύρεση του βέλτιστου πλήθους γειτόνων (κ) υπολογίζουμε το μέσο ρυθμό σφάλματος για k από 1 έως 30."
   ]
  },
  {
   "cell_type": "code",
   "execution_count": 38,
   "metadata": {},
   "outputs": [
    {
     "data": {
      "image/png": "[encoded data removed]",
      "text/plain": [
       "<Figure size 576x396 with 1 Axes>"
      ]
     },
     "metadata": {},
     "output_type": "display_data"
    }
   ],
   "source": [
    "errors = []\n",
    "K = range(1,30)\n",
    "for k in K:\n",
    "    knn = KNeighborsClassifier(n_neighbors=k,n_jobs=-1)\n",
    "    knn = knn.fit(X_train_scaled, y_train)\n",
    "    preds = knn.predict(X_test_scaled)\n",
    "    errors.append(np.mean(preds != y_test))\n",
    "    \n",
    "plt.plot(K, errors, 'bx-')\n",
    "plt.xlabel('k')\n",
    "plt.ylabel('Error Rate')\n",
    "plt.title('kNN errors per k')\n",
    "plt.show()    "
   ]
  },
  {
   "cell_type": "markdown",
   "metadata": {},
   "source": [
    "Θα επιλέξουμε 7 γείτονες για τον αλόριθμο."
   ]
  },
  {
   "cell_type": "code",
   "execution_count": 83,
   "metadata": {},
   "outputs": [
    {
     "name": "stdout",
     "output_type": "stream",
     "text": [
      "=== Confusion Matrix ===\n",
      "[[1009  118]\n",
      " [ 136 2506]]\n",
      "\n",
      "\n",
      "=== Classification Report ===\n",
      "              precision    recall  f1-score   support\n",
      "\n",
      "           0       0.88      0.90      0.89      1127\n",
      "           1       0.96      0.95      0.95      2642\n",
      "\n",
      "    accuracy                           0.93      3769\n",
      "   macro avg       0.92      0.92      0.92      3769\n",
      "weighted avg       0.93      0.93      0.93      3769\n",
      "\n"
     ]
    }
   ],
   "source": [
    "neigh = KNeighborsClassifier(n_neighbors=7)\n",
    "neigh.fit(X_train_scaled, y_train)\n",
    "\n",
    "y_pred = neigh.predict(X_test_scaled)\n",
    "\n",
    "print(\"=== Confusion Matrix ===\")\n",
    "print(confusion_matrix(y_test, y_pred))\n",
    "print('\\n')\n",
    "print(\"=== Classification Report ===\")\n",
    "print(classification_report(y_test, y_pred))\n"
   ]
  },
  {
   "cell_type": "markdown",
   "metadata": {},
   "source": [
    "## Random Forest Classifier"
   ]
  },
  {
   "cell_type": "markdown",
   "metadata": {},
   "source": [
    "Παρακάτω χρησιμοποιούμε την ensebmle μέθοδο Random Forest. Για την επιλογή των υπερπαραμέτρων του αλγορίθμου χρησιμοποιούμε Grid Search αλλα εξετάζοντας ένα τυχαίο δείγμα από το σύνολο των επιλογών για παραμέτρους (για εξοικονόμηση χρόνου), χρησιμοποιώντας τη μέθοδο RandomizedSearchCV του sklearn. Η επιλογή γίνεται μέσω 5-fold Cross Validation και 100 φορες, δηλαδή συνολικά γίνονται 500 fits στα δεδομένα."
   ]
  },
  {
   "cell_type": "code",
   "execution_count": 338,
   "metadata": {},
   "outputs": [
    {
     "name": "stdout",
     "output_type": "stream",
     "text": [
      "Fitting 5 folds for each of 100 candidates, totalling 500 fits\n"
     ]
    },
    {
     "name": "stderr",
     "output_type": "stream",
     "text": [
      "[Parallel(n_jobs=-1)]: Using backend LokyBackend with 12 concurrent workers.\n",
      "[Parallel(n_jobs=-1)]: Done  17 tasks      | elapsed:   12.9s\n",
      "[Parallel(n_jobs=-1)]: Done 138 tasks      | elapsed:  1.8min\n",
      "[Parallel(n_jobs=-1)]: Done 341 tasks      | elapsed:  3.8min\n",
      "[Parallel(n_jobs=-1)]: Done 500 out of 500 | elapsed:  5.7min finished\n"
     ]
    },
    {
     "name": "stdout",
     "output_type": "stream",
     "text": [
      "{'n_estimators': 857, 'max_features': 'auto', 'max_depth': 10}\n"
     ]
    }
   ],
   "source": [
    "from sklearn.model_selection import RandomizedSearchCV\n",
    "\n",
    "rfc = RandomForestClassifier()\n",
    "\n",
    "n_estimators = [int(x) for x in np.linspace(start = 100, stop = 1000, num = 20)]\n",
    "max_features = ['auto', 'sqrt']\n",
    "max_depth = [int(x) for x in np.linspace(10, 200, num = 10)]\n",
    "max_depth.append(None)\n",
    "\n",
    "options_grid = {\n",
    " 'n_estimators': n_estimators,\n",
    " 'max_features': max_features,\n",
    " 'max_depth': max_depth\n",
    " }\n",
    "\n",
    "rand_forest = RandomizedSearchCV(estimator = rfc, param_distributions = options_grid, n_iter = 100, cv = 5, verbose=2, random_state=77, n_jobs = -1)\n",
    "rand_forest.fit(X_train, y_train)\n",
    "\n",
    "print(rand_forest.best_params_)"
   ]
  },
  {
   "cell_type": "markdown",
   "metadata": {},
   "source": [
    "Τώρα χρησιμοποιούμε τον αλγόριθμο με τις βέλτισες παραμέτρους που υπολογίστηκαν παραπάνω."
   ]
  },
  {
   "cell_type": "code",
   "execution_count": 28,
   "metadata": {},
   "outputs": [
    {
     "name": "stdout",
     "output_type": "stream",
     "text": [
      "=== Confusion Matrix ===\n",
      "[[ 988  139]\n",
      " [ 101 2541]]\n",
      "\n",
      "\n",
      "=== Classification Report ===\n",
      "              precision    recall  f1-score   support\n",
      "\n",
      "           0       0.91      0.88      0.89      1127\n",
      "           1       0.95      0.96      0.95      2642\n",
      "\n",
      "    accuracy                           0.94      3769\n",
      "   macro avg       0.93      0.92      0.92      3769\n",
      "weighted avg       0.94      0.94      0.94      3769\n",
      "\n"
     ]
    }
   ],
   "source": [
    "rand_forest = RandomForestClassifier(n_estimators=857, max_features = 'auto', max_depth= 10, random_state=77,n_jobs=-1).fit(X_train_scaled, y_train)\n",
    "\n",
    "y_pred = rand_forest.predict(X_test_scaled)\n",
    "\n",
    "print(\"=== Confusion Matrix ===\")\n",
    "print(confusion_matrix(y_test, y_pred))\n",
    "print('\\n')\n",
    "print(\"=== Classification Report ===\")\n",
    "print(classification_report(y_test, y_pred))\n"
   ]
  },
  {
   "cell_type": "code",
   "execution_count": 96,
   "metadata": {},
   "outputs": [
    {
     "data": {
      "text/plain": [
       "{0: 1089, 1: 2680}"
      ]
     },
     "execution_count": 96,
     "metadata": {},
     "output_type": "execute_result"
    }
   ],
   "source": [
    "unique, counts = np.unique(y_pred, return_counts=True)\n",
    "dict(zip(unique, counts))"
   ]
  },
  {
   "cell_type": "markdown",
   "metadata": {},
   "source": [
    "Αν και υπάρχουν μικρές διαφορές μεταξύ των αλγορίθμων, και όλοι αποδίδουν καλά αποτελέσματα, ο αλγόριθμος Random Forests πετυχαίνει τα καλύτερα (συνολικά). "
   ]
  },
  {
   "cell_type": "markdown",
   "metadata": {},
   "source": [
    "## (c) Ορισμός τιμής Εκκίνησης"
   ]
  },
  {
   "cell_type": "markdown",
   "metadata": {},
   "source": [
    "Διαβάζουμε τα δεδομένα απ'την αρχή."
   ]
  },
  {
   "cell_type": "code",
   "execution_count": 61,
   "metadata": {},
   "outputs": [],
   "source": [
    "auctions = pd.read_csv('auction_data/auction_data.csv')\n",
    "auctions['SellerId'] = auctions['SellerId'].astype('str')\n",
    "auctions[' ItemId'] = auctions[' ItemId'].astype('str')"
   ]
  },
  {
   "cell_type": "code",
   "execution_count": 57,
   "metadata": {},
   "outputs": [
    {
     "data": {
      "text/html": [
       "<div>\n",
       "<style scoped>\n",
       "    .dataframe tbody tr th:only-of-type {\n",
       "        vertical-align: middle;\n",
       "    }\n",
       "\n",
       "    .dataframe tbody tr th {\n",
       "        vertical-align: top;\n",
       "    }\n",
       "\n",
       "    .dataframe thead th {\n",
       "        text-align: right;\n",
       "    }\n",
       "</style>\n",
       "<table border=\"1\" class=\"dataframe\">\n",
       "  <thead>\n",
       "    <tr style=\"text-align: right;\">\n",
       "      <th></th>\n",
       "      <th>SellerId</th>\n",
       "      <th>SellerRating</th>\n",
       "      <th>ItemId</th>\n",
       "      <th>StartingBid</th>\n",
       "      <th>Price</th>\n",
       "      <th>NumBidders</th>\n",
       "    </tr>\n",
       "  </thead>\n",
       "  <tbody>\n",
       "    <tr>\n",
       "      <th>0</th>\n",
       "      <td>144.0</td>\n",
       "      <td>84.11</td>\n",
       "      <td>6.0</td>\n",
       "      <td>137.0</td>\n",
       "      <td>145.5</td>\n",
       "      <td>2.0</td>\n",
       "    </tr>\n",
       "    <tr>\n",
       "      <th>1</th>\n",
       "      <td>40.0</td>\n",
       "      <td>93.76</td>\n",
       "      <td>0.0</td>\n",
       "      <td>30.0</td>\n",
       "      <td>30.0</td>\n",
       "      <td>0.0</td>\n",
       "    </tr>\n",
       "    <tr>\n",
       "      <th>2</th>\n",
       "      <td>102.0</td>\n",
       "      <td>94.52</td>\n",
       "      <td>12.0</td>\n",
       "      <td>364.0</td>\n",
       "      <td>1278.0</td>\n",
       "      <td>8.0</td>\n",
       "    </tr>\n",
       "    <tr>\n",
       "      <th>3</th>\n",
       "      <td>77.0</td>\n",
       "      <td>97.41</td>\n",
       "      <td>2.0</td>\n",
       "      <td>82.0</td>\n",
       "      <td>106.5</td>\n",
       "      <td>3.0</td>\n",
       "    </tr>\n",
       "    <tr>\n",
       "      <th>4</th>\n",
       "      <td>54.0</td>\n",
       "      <td>80.32</td>\n",
       "      <td>4.0</td>\n",
       "      <td>173.0</td>\n",
       "      <td>173.0</td>\n",
       "      <td>0.0</td>\n",
       "    </tr>\n",
       "  </tbody>\n",
       "</table>\n",
       "</div>"
      ],
      "text/plain": [
       "  SellerId   SellerRating  ItemId   StartingBid   Price   NumBidders\n",
       "0    144.0          84.11     6.0         137.0   145.5          2.0\n",
       "1     40.0          93.76     0.0          30.0    30.0          0.0\n",
       "2    102.0          94.52    12.0         364.0  1278.0          8.0\n",
       "3     77.0          97.41     2.0          82.0   106.5          3.0\n",
       "4     54.0          80.32     4.0         173.0   173.0          0.0"
      ]
     },
     "execution_count": 57,
     "metadata": {},
     "output_type": "execute_result"
    }
   ],
   "source": [
    "auctions.head()"
   ]
  },
  {
   "cell_type": "markdown",
   "metadata": {},
   "source": [
    "Παρακάτω φαίνεται το StartingBid σε συνάρτηση με τα αντικείμενα προς πώληση."
   ]
  },
  {
   "cell_type": "code",
   "execution_count": 58,
   "metadata": {},
   "outputs": [
    {
     "data": {
      "image/png": "[encoded data removed]",
      "text/plain": [
       "<Figure size 864x504 with 1 Axes>"
      ]
     },
     "metadata": {},
     "output_type": "display_data"
    }
   ],
   "source": [
    "plt.figure(figsize=(12,7))\n",
    "plt.title('StartingBid vs ItemId sized by NumBidders',fontsize=20)\n",
    "ax=sns.scatterplot(x=\" ItemId\", y=\" StartingBid\",data=auctions, hue=auctions2['sold'],size=\" NumBidders\")\n"
   ]
  },
  {
   "cell_type": "markdown",
   "metadata": {},
   "source": [
    "Αρχικά θα μεταβάλλουμε την τιμή εκκίνησης κατά ένα ποσοστό, για τις καταχωρήσεις όπου έγινε η πώληση. Στη συνέχεια θα χρησιμοποιήσουμε παλινδρόμηση για να δούμε εάν επιτυγχάνουμε καλύτερα αποτελέσματα με την αλλαγή αυτή."
   ]
  },
  {
   "cell_type": "code",
   "execution_count": 29,
   "metadata": {},
   "outputs": [],
   "source": [
    "auctions3 = auctions[ auctions2['sold']==1].copy()"
   ]
  },
  {
   "cell_type": "code",
   "execution_count": 30,
   "metadata": {},
   "outputs": [],
   "source": [
    "auctions3_price = auctions3.loc[:,' Price'].copy()\n",
    "auctions3.drop([' NumBidders',' Price'],inplace=True,axis=1)\n",
    "auctions3[' Price'] = auctions3_price"
   ]
  },
  {
   "cell_type": "code",
   "execution_count": 31,
   "metadata": {},
   "outputs": [
    {
     "data": {
      "text/html": [
       "<div>\n",
       "<style scoped>\n",
       "    .dataframe tbody tr th:only-of-type {\n",
       "        vertical-align: middle;\n",
       "    }\n",
       "\n",
       "    .dataframe tbody tr th {\n",
       "        vertical-align: top;\n",
       "    }\n",
       "\n",
       "    .dataframe thead th {\n",
       "        text-align: right;\n",
       "    }\n",
       "</style>\n",
       "<table border=\"1\" class=\"dataframe\">\n",
       "  <thead>\n",
       "    <tr style=\"text-align: right;\">\n",
       "      <th></th>\n",
       "      <th>SellerRating</th>\n",
       "      <th>StartingBid</th>\n",
       "      <th>ItemId_0.0</th>\n",
       "      <th>ItemId_1.0</th>\n",
       "      <th>ItemId_10.0</th>\n",
       "      <th>ItemId_11.0</th>\n",
       "      <th>ItemId_12.0</th>\n",
       "      <th>ItemId_2.0</th>\n",
       "      <th>ItemId_3.0</th>\n",
       "      <th>ItemId_4.0</th>\n",
       "      <th>...</th>\n",
       "      <th>SellerId_91.0</th>\n",
       "      <th>SellerId_92.0</th>\n",
       "      <th>SellerId_93.0</th>\n",
       "      <th>SellerId_94.0</th>\n",
       "      <th>SellerId_95.0</th>\n",
       "      <th>SellerId_96.0</th>\n",
       "      <th>SellerId_97.0</th>\n",
       "      <th>SellerId_98.0</th>\n",
       "      <th>SellerId_99.0</th>\n",
       "      <th>Price</th>\n",
       "    </tr>\n",
       "  </thead>\n",
       "  <tbody>\n",
       "    <tr>\n",
       "      <th>0</th>\n",
       "      <td>84.11</td>\n",
       "      <td>137.0</td>\n",
       "      <td>0</td>\n",
       "      <td>0</td>\n",
       "      <td>0</td>\n",
       "      <td>0</td>\n",
       "      <td>0</td>\n",
       "      <td>0</td>\n",
       "      <td>0</td>\n",
       "      <td>0</td>\n",
       "      <td>...</td>\n",
       "      <td>0</td>\n",
       "      <td>0</td>\n",
       "      <td>0</td>\n",
       "      <td>0</td>\n",
       "      <td>0</td>\n",
       "      <td>0</td>\n",
       "      <td>0</td>\n",
       "      <td>0</td>\n",
       "      <td>0</td>\n",
       "      <td>145.5</td>\n",
       "    </tr>\n",
       "    <tr>\n",
       "      <th>2</th>\n",
       "      <td>94.52</td>\n",
       "      <td>364.0</td>\n",
       "      <td>0</td>\n",
       "      <td>0</td>\n",
       "      <td>0</td>\n",
       "      <td>0</td>\n",
       "      <td>1</td>\n",
       "      <td>0</td>\n",
       "      <td>0</td>\n",
       "      <td>0</td>\n",
       "      <td>...</td>\n",
       "      <td>0</td>\n",
       "      <td>0</td>\n",
       "      <td>0</td>\n",
       "      <td>0</td>\n",
       "      <td>0</td>\n",
       "      <td>0</td>\n",
       "      <td>0</td>\n",
       "      <td>0</td>\n",
       "      <td>0</td>\n",
       "      <td>1278.0</td>\n",
       "    </tr>\n",
       "    <tr>\n",
       "      <th>3</th>\n",
       "      <td>97.41</td>\n",
       "      <td>82.0</td>\n",
       "      <td>0</td>\n",
       "      <td>0</td>\n",
       "      <td>0</td>\n",
       "      <td>0</td>\n",
       "      <td>0</td>\n",
       "      <td>1</td>\n",
       "      <td>0</td>\n",
       "      <td>0</td>\n",
       "      <td>...</td>\n",
       "      <td>0</td>\n",
       "      <td>0</td>\n",
       "      <td>0</td>\n",
       "      <td>0</td>\n",
       "      <td>0</td>\n",
       "      <td>0</td>\n",
       "      <td>0</td>\n",
       "      <td>0</td>\n",
       "      <td>0</td>\n",
       "      <td>106.5</td>\n",
       "    </tr>\n",
       "    <tr>\n",
       "      <th>5</th>\n",
       "      <td>99.97</td>\n",
       "      <td>836.0</td>\n",
       "      <td>0</td>\n",
       "      <td>0</td>\n",
       "      <td>0</td>\n",
       "      <td>0</td>\n",
       "      <td>1</td>\n",
       "      <td>0</td>\n",
       "      <td>0</td>\n",
       "      <td>0</td>\n",
       "      <td>...</td>\n",
       "      <td>0</td>\n",
       "      <td>0</td>\n",
       "      <td>0</td>\n",
       "      <td>0</td>\n",
       "      <td>0</td>\n",
       "      <td>0</td>\n",
       "      <td>0</td>\n",
       "      <td>0</td>\n",
       "      <td>0</td>\n",
       "      <td>1146.0</td>\n",
       "    </tr>\n",
       "    <tr>\n",
       "      <th>6</th>\n",
       "      <td>99.01</td>\n",
       "      <td>207.0</td>\n",
       "      <td>0</td>\n",
       "      <td>0</td>\n",
       "      <td>0</td>\n",
       "      <td>0</td>\n",
       "      <td>0</td>\n",
       "      <td>0</td>\n",
       "      <td>0</td>\n",
       "      <td>0</td>\n",
       "      <td>...</td>\n",
       "      <td>0</td>\n",
       "      <td>0</td>\n",
       "      <td>0</td>\n",
       "      <td>0</td>\n",
       "      <td>0</td>\n",
       "      <td>0</td>\n",
       "      <td>0</td>\n",
       "      <td>0</td>\n",
       "      <td>0</td>\n",
       "      <td>599.0</td>\n",
       "    </tr>\n",
       "  </tbody>\n",
       "</table>\n",
       "<p>5 rows × 166 columns</p>\n",
       "</div>"
      ],
      "text/plain": [
       "    SellerRating   StartingBid  ItemId_0.0  ItemId_1.0  ItemId_10.0  \\\n",
       "0          84.11         137.0           0           0            0   \n",
       "2          94.52         364.0           0           0            0   \n",
       "3          97.41          82.0           0           0            0   \n",
       "5          99.97         836.0           0           0            0   \n",
       "6          99.01         207.0           0           0            0   \n",
       "\n",
       "   ItemId_11.0  ItemId_12.0  ItemId_2.0  ItemId_3.0  ItemId_4.0  ...  \\\n",
       "0            0            0           0           0           0  ...   \n",
       "2            0            1           0           0           0  ...   \n",
       "3            0            0           1           0           0  ...   \n",
       "5            0            1           0           0           0  ...   \n",
       "6            0            0           0           0           0  ...   \n",
       "\n",
       "   SellerId_91.0  SellerId_92.0  SellerId_93.0  SellerId_94.0  SellerId_95.0  \\\n",
       "0              0              0              0              0              0   \n",
       "2              0              0              0              0              0   \n",
       "3              0              0              0              0              0   \n",
       "5              0              0              0              0              0   \n",
       "6              0              0              0              0              0   \n",
       "\n",
       "   SellerId_96.0  SellerId_97.0  SellerId_98.0  SellerId_99.0   Price  \n",
       "0              0              0              0              0   145.5  \n",
       "2              0              0              0              0  1278.0  \n",
       "3              0              0              0              0   106.5  \n",
       "5              0              0              0              0  1146.0  \n",
       "6              0              0              0              0   599.0  \n",
       "\n",
       "[5 rows x 166 columns]"
      ]
     },
     "execution_count": 31,
     "metadata": {},
     "output_type": "execute_result"
    }
   ],
   "source": [
    "auctions3.head()"
   ]
  },
  {
   "cell_type": "code",
   "execution_count": 32,
   "metadata": {},
   "outputs": [],
   "source": [
    "#Train-test set split and standardization\n",
    "\n",
    "X=auctions3.iloc[:,:-1].values\n",
    "y=auctions3.iloc[:,-1].values\n",
    "\n",
    "X_train, X_test, y_train, y_test = train_test_split(X, y, random_state=77, test_size=0.2)\n",
    "\n",
    "X_train_scaled=StandardScaler().fit_transform(X_train)\n",
    "X_test_scaled=StandardScaler().fit_transform(X_test)"
   ]
  },
  {
   "cell_type": "markdown",
   "metadata": {},
   "source": [
    "Στη συνέχεια κατασκευάζουμε ένα μοντέλο πρόβλεψης της τελικής τιμής χρησιμοποιώντας Random Forests. Η διαφορα με πριν είναι ότι τώρα δεν χρησιμοποιούμε τη μεταβλητή NumBidders καθότι για τις νέες τιμές εκκίνησης δεν μπορούμε να έχουμε γνώση αυτού."
   ]
  },
  {
   "cell_type": "code",
   "execution_count": 39,
   "metadata": {},
   "outputs": [
    {
     "data": {
      "image/png": "[encoded data removed]",
      "text/plain": [
       "<Figure size 1152x576 with 1 Axes>"
      ]
     },
     "metadata": {},
     "output_type": "display_data"
    },
    {
     "name": "stdout",
     "output_type": "stream",
     "text": [
      "R^2 on train set : 0.996964175540723\n",
      "R^2 on test set : 0.9776814949326835\n",
      "Mean Absolute Error: 24.90237252737175\n",
      "Mean Squared Error: 2733.0980829189257\n",
      "Root Mean Squared Error: 52.27904056999254\n"
     ]
    }
   ],
   "source": [
    "rand_forest = RandomForestRegressor(n_estimators=300, max_features = 'auto', max_depth= 50, random_state=77,n_jobs=-1).fit(X_train, y_train)\n",
    "\n",
    "y_pred = rand_forest.predict(X_test)\n",
    "\n",
    "fit_and_report(rand_forest,y_test)\n"
   ]
  },
  {
   "cell_type": "markdown",
   "metadata": {},
   "source": [
    "Αυξάνουμε την τιμή εκκίνησης κατά 10%, χωρίζουμε το σύνολο σε train-test και υπολογίζουμε για το test τις προβλέψεις. Στη συνέχεια υπολογίζουμε τη μέση τιμή της διαφροάς τους από τις αρχικές τιμές εκκίνησης."
   ]
  },
  {
   "cell_type": "code",
   "execution_count": 40,
   "metadata": {},
   "outputs": [],
   "source": [
    "starting_bid = auctions3.loc[:,' StartingBid'].copy()\n",
    "new_starting_bid = starting_bid * 1.10\n",
    "auctions3.loc[:,' StartingBid'] = new_starting_bid\n"
   ]
  },
  {
   "cell_type": "code",
   "execution_count": 41,
   "metadata": {},
   "outputs": [],
   "source": [
    "X=auctions3.iloc[:,:-1].values\n",
    "y=auctions3.iloc[:,-1].values\n",
    "\n",
    "X_train, X_test, y_train, y_test = train_test_split(X, y, random_state=77, test_size=0.2)\n",
    "\n",
    "y_pred2 = rand_forest.predict(X_test)"
   ]
  },
  {
   "cell_type": "code",
   "execution_count": 49,
   "metadata": {},
   "outputs": [
    {
     "data": {
      "text/plain": [
       "-8.706846844285536"
      ]
     },
     "execution_count": 49,
     "metadata": {},
     "output_type": "execute_result"
    }
   ],
   "source": [
    "np.mean(y_test-y_pred2)"
   ]
  },
  {
   "cell_type": "markdown",
   "metadata": {},
   "source": [
    "Όπως φαίνεται έχουμε, κατά μέσο όρο, αύξηση της τελικής τιμής μετά την αύξηση αυτή καθότι το αποτέλεσμα είναι αρνητικό κατά 8.71 μονάδες."
   ]
  },
  {
   "cell_type": "code",
   "execution_count": null,
   "metadata": {},
   "outputs": [],
   "source": []
  }
 ],
 "metadata": {
  "kernelspec": {
   "display_name": "Python 3",
   "language": "python",
   "name": "python3"
  },
  "language_info": {
   "codemirror_mode": {
    "name": "ipython",
    "version": 3
   },
   "file_extension": ".py",
   "mimetype": "text/x-python",
   "name": "python",
   "nbconvert_exporter": "python",
   "pygments_lexer": "ipython3",
   "version": "3.6.12"
  }
 },
 "nbformat": 4,
 "nbformat_minor": 4
}
